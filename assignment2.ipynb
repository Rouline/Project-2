{
 "cells": [
  {
   "cell_type": "code",
   "execution_count": 1,
   "metadata": {},
   "outputs": [
    {
     "name": "stdin",
     "output_type": "stream",
     "text": [
      "Name:  Moses\n",
      "Country:  Kenya\n",
      "Profession:  Programmer\n",
      "Email Address:  moses@gmail.com\n",
      "Phone No.:  0700000000\n",
      "City:  Nairobi\n",
      "Address:  P.O Box 00100\n"
     ]
    },
    {
     "name": "stdout",
     "output_type": "stream",
     "text": [
      "\n",
      "Names: Moses\n",
      "Country: Kenya\n",
      "Proffessional: Programmer\n",
      "Email: moses@gmail.com\n",
      "Phone No.: 0700000000\n",
      "City: Nairobi\n",
      "Address: P.O Box 00100\n"
     ]
    }
   ],
   "source": [
    "#A design programme that accept inputs\n",
    "names = input(\"Name: \")\n",
    "countries = input(\"Country: \")\n",
    "profession = input(\"Profession: \")\n",
    "email = input(\"Email Address: \")\n",
    "phone = input(\"Phone No.: \")\n",
    "city = input(\"City: \")\n",
    "address = input(\"Address: \")\n",
    "\n",
    "print()\n",
    "print(\"Names: \" + names)\n",
    "print(\"Country: \" + countries)\n",
    "print(\"Proffessional: \" + profession)\n",
    "print(\"Email: \" + email)\n",
    "print(\"Phone No.: \" + phone)\n",
    "print(\"City: \" + city)\n",
    "print(\"Address: \" + address)\n",
    "\n"
   ]
  },
  {
   "cell_type": "code",
   "execution_count": null,
   "metadata": {},
   "outputs": [],
   "source": []
  }
 ],
 "metadata": {
  "kernelspec": {
   "display_name": "Python 3",
   "language": "python",
   "name": "python3"
  },
  "language_info": {
   "codemirror_mode": {
    "name": "ipython",
    "version": 3
   },
   "file_extension": ".py",
   "mimetype": "text/x-python",
   "name": "python",
   "nbconvert_exporter": "python",
   "pygments_lexer": "ipython3",
   "version": "3.7.6"
  }
 },
 "nbformat": 4,
 "nbformat_minor": 4
}
